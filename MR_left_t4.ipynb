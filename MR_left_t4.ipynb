{
 "cells": [
  {
   "cell_type": "code",
   "execution_count": 15,
   "metadata": {},
   "outputs": [],
   "source": [
    "import pandas as pd\n",
    "import numpy as np\n",
    "from sklearn.preprocessing import MinMaxScaler\n",
    "from sklearn.preprocessing import StandardScaler\n",
    "from sklearn import ensemble\n",
    "from sklearn.utils import shuffle\n",
    "from sklearn.metrics import mean_squared_error\n",
    "from sklearn.metrics import r2_score\n",
    "from sklearn.metrics import accuracy_score\n",
    "from sklearn import metrics\n",
    "from sklearn.model_selection import train_test_split\n",
    "from sklearn.multioutput import MultiOutputRegressor\n",
    "from sklearn.ensemble import RandomForestRegressor\n",
    "from matplotlib import pyplot as plt\n",
    "from sklearn.model_selection import cross_val_score\n",
    "from sklearn.decomposition.pca import PCA\n",
    "from sklearn.preprocessing import scale"
   ]
  },
  {
   "cell_type": "code",
   "execution_count": 16,
   "metadata": {},
   "outputs": [],
   "source": [
    "def find_nearest(array,value):\n",
    "    idx = (np.abs(array-value)).argmin()\n",
    "    return array[idx]"
   ]
  },
  {
   "cell_type": "code",
   "execution_count": 17,
   "metadata": {},
   "outputs": [],
   "source": [
    "def refine_data(arr1,arr2,arr3):\n",
    "    refined_data = []\n",
    "    for i in range(arr1.shape[0]):\n",
    "        rt = find_nearest(arr1[i],arr3[i][0])\n",
    "        refined_data.append([rt,arr2[i][arr1[i].tolist().index(rt)]])\n",
    "        \n",
    "    refined_data = np.array(refined_data)\n",
    "    return refined_data"
   ]
  },
  {
   "cell_type": "code",
   "execution_count": 18,
   "metadata": {},
   "outputs": [],
   "source": [
    "def get_metrics(arr1,arr2):\n",
    "    mse = mean_squared_error(arr1,arr2)\n",
    "    r2 = r2_score(arr1,arr2)\n",
    "    return mse,r2"
   ]
  },
  {
   "cell_type": "code",
   "execution_count": 19,
   "metadata": {},
   "outputs": [],
   "source": [
    "d1 = pd.read_csv('X_data_t3',sep = ',')\n",
    "d2 = pd.read_csv('y_data',sep = ',')\n",
    "d3 = pd.concat([d1,d2],axis=1)\n",
    "\n",
    "#data = d3.loc[(d3['maxRT_ab'] < 1e6) & (d3['maxRT_ab'] > 3e4)]\n",
    "data = d3.loc[(d3['maxRT_ab'] > 3e4)]\n",
    "#data = d3.loc[(d3['maxRT_ab'] < 1e6)]\n",
    "#d3 = shuffle(d3)\n",
    "\n",
    "#X = np.array(d3[['maxRT_t','x_start_t','diff_start','diff_end']])\n",
    "#X = np.array(d3[['maxRT_ab','maxRT_baseline','x_start_ab','x_end_ab']])\n",
    "#X = np.array(d3[['maxRT_t','maxRT_ab','maxRT_baseline','x_start_ab','x_end_ab']])\n",
    "X = np.array(d3[['rt','maxRT_t','maxRT_ab','maxRT_base','x_start_t','x_start_ab','diff_start','x_end_t','x_end_ab','diff_end','width']])\n",
    "\n",
    "#X = np.array(d3[['rt','maxRT_ab','x_start_t','x_end_t','width']])\n",
    "\n",
    "\n",
    "y = np.array(d3[['y_left_t','y_left_ab']])\n",
    "\n",
    "\n",
    "time = np.array(pd.read_csv('time',sep = ',',header = None).dropna(axis = 'columns').round(3))\n",
    "abundance = np.array(pd.read_csv('abundance',sep = ',',header = None).dropna(axis = 'columns'))\n",
    "baseline = np.array(pd.read_csv('baseline',sep = ',',header = None).dropna(axis = 'columns'))\n",
    "#time = time[0:420]\n",
    "#abundance = abundance[0:420]\n",
    "#baseline = baseline[0:420]"
   ]
  },
  {
   "cell_type": "code",
   "execution_count": 20,
   "metadata": {},
   "outputs": [
    {
     "data": {
      "text/plain": [
       "(99672936.0, 22512.0, (423, 11))"
      ]
     },
     "execution_count": 20,
     "metadata": {},
     "output_type": "execute_result"
    }
   ],
   "source": [
    "np.amax(d3['maxRT_ab']), np.amin(d3['maxRT_ab']), X.shape"
   ]
  },
  {
   "cell_type": "code",
   "execution_count": 21,
   "metadata": {},
   "outputs": [],
   "source": [
    "X_train,X_test,y_train,y_test = train_test_split(X,y,test_size=0.2,random_state=42)"
   ]
  },
  {
   "cell_type": "code",
   "execution_count": 22,
   "metadata": {},
   "outputs": [],
   "source": [
    "scaler_train = MinMaxScaler(feature_range=(0,1))\n",
    "#scaler_train = StandardScaler()\n",
    "scaler_train.fit(X_train)\n",
    "X_train =scaler_train.transform(X_train)\n",
    "\n",
    "scaler_test = MinMaxScaler(feature_range=(0,1))\n",
    "#scaler_test = StandardScaler()\n",
    "scaler_test.fit(X_test)\n",
    "X_test = scaler_test.transform(X_test)"
   ]
  },
  {
   "cell_type": "code",
   "execution_count": 23,
   "metadata": {},
   "outputs": [
    {
     "name": "stdout",
     "output_type": "stream",
     "text": [
      "0.0002529294117647059 -0.0052749823140381125 15299224.448273474 0.5448056130182723\n"
     ]
    }
   ],
   "source": [
    "n_estimators = 1000\n",
    "max_depth = 1000\n",
    "random_state = 1000\n",
    "ite = 1\n",
    "\n",
    "#mse_t,r2_t = [[]for i in range(len(n_estimators))], [[] for i in range(len(n_estimators))]\n",
    "#mse_ab,r2_ab = [[]for i in range(len(n_estimators))], [[] for i in range(len(n_estimators))]\n",
    "\n",
    "\n",
    "params = {'n_estimators': n_estimators, 'max_depth': max_depth, 'min_samples_split': 20,\n",
    "                 'n_jobs': -1, 'random_state':random_state}\n",
    "        \n",
    "clf = RandomForestRegressor(**params)\n",
    "\n",
    "\n",
    "scores = cross_val_score(clf, X_train, y_train, cv=5)\n",
    "clf.fit(X_train,y_train)\n",
    "y_predict = clf.predict(X_test).round(3)\n",
    "    \n",
    "mse_1,r2_1 = get_metrics(y_test[:,0],y_predict[:,0])\n",
    "mse_2,r2_2 = get_metrics(y_test[:,1],y_predict[:,1])\n",
    "print(mse_1,r2_1,mse_2,r2_2)\n",
    "    \n",
    "    \n",
    "        \n"
   ]
  },
  {
   "cell_type": "code",
   "execution_count": 24,
   "metadata": {
    "scrolled": true
   },
   "outputs": [
    {
     "data": {
      "text/plain": [
       "array([0.98 , 0.99 , 1.003, 1.013, 1.   , 0.993, 0.98 , 1.007, 0.983,\n",
       "       0.987, 0.98 , 1.013, 1.003, 1.017, 0.997, 0.99 , 0.953, 1.   ,\n",
       "       0.98 , 0.983, 0.97 , 0.983, 1.017, 0.997, 0.99 , 1.013, 0.993,\n",
       "       0.997, 0.973, 0.98 , 0.973, 0.997, 0.97 , 0.98 , 0.993, 1.007,\n",
       "       0.977, 0.983, 0.977, 0.983, 0.983, 0.98 , 0.98 , 0.983, 1.   ,\n",
       "       0.967, 0.997, 1.017, 0.957, 0.98 , 0.993, 1.   , 0.987, 0.983,\n",
       "       0.997, 1.01 , 0.953, 1.007, 0.987, 0.983, 0.983, 0.983, 0.983,\n",
       "       0.983, 1.02 , 0.987, 0.963, 0.98 , 1.017, 0.973, 0.987, 0.963,\n",
       "       1.003, 1.007, 0.997, 0.937, 0.987, 0.987, 0.997, 0.993, 0.98 ,\n",
       "       0.977, 1.013, 0.977, 0.987])"
      ]
     },
     "execution_count": 24,
     "metadata": {},
     "output_type": "execute_result"
    }
   ],
   "source": [
    "y_test[:,0]"
   ]
  },
  {
   "cell_type": "code",
   "execution_count": 25,
   "metadata": {},
   "outputs": [
    {
     "data": {
      "text/plain": [
       "array([0.987, 1.002, 0.998, 1.004, 1.004, 0.994, 0.989, 0.989, 0.993,\n",
       "       0.987, 0.991, 0.994, 0.988, 0.987, 0.991, 0.996, 0.99 , 0.987,\n",
       "       0.99 , 0.992, 0.998, 0.987, 1.002, 1.001, 0.989, 1.003, 0.994,\n",
       "       0.992, 0.991, 0.992, 0.996, 0.997, 0.991, 0.991, 0.993, 1.004,\n",
       "       0.989, 0.993, 0.989, 0.997, 0.991, 0.987, 1.004, 0.992, 1.001,\n",
       "       0.997, 0.987, 1.012, 0.99 , 0.985, 0.993, 1.   , 0.988, 0.992,\n",
       "       1.001, 0.995, 0.996, 0.994, 0.991, 0.989, 0.996, 0.993, 0.987,\n",
       "       0.994, 1.029, 0.99 , 0.994, 0.987, 0.998, 0.989, 1.001, 1.   ,\n",
       "       0.999, 1.   , 0.993, 0.988, 1.   , 0.988, 1.   , 1.001, 1.003,\n",
       "       1.001, 0.994, 1.   , 0.994])"
      ]
     },
     "execution_count": 25,
     "metadata": {},
     "output_type": "execute_result"
    }
   ],
   "source": [
    "y_predict[:,0]"
   ]
  },
  {
   "cell_type": "code",
   "execution_count": 26,
   "metadata": {},
   "outputs": [
    {
     "name": "stdout",
     "output_type": "stream",
     "text": [
      "[0.73976687 0.75249782 0.67413778 0.72655178 0.36610512]\n",
      "-0.07639565062882814 -5.2099801026128905\n",
      "0.00027082352941176503 208719356.22747636\n"
     ]
    }
   ],
   "source": [
    "from sklearn.decomposition.pca import PCA\n",
    "from sklearn.preprocessing import scale\n",
    "pca = PCA()\n",
    "X_reduced = pca.fit_transform(X_train)\n",
    "scores = cross_val_score(clf, X_reduced, y_train, cv=5)\n",
    "print(scores)\n",
    "clf.fit(X_reduced,y_train)\n",
    "y_predict = clf.predict(X_test).round(3)\n",
    "        \n",
    "        \n",
    "mse_1,r2_1 = get_metrics(y_test[:,0],y_predict[:,0])\n",
    "mse_2,r2_2 = get_metrics(y_test[:,1],y_predict[:,1])\n",
    "        \n",
    "        \n",
    "print(r2_1,r2_2)\n",
    "print(mse_1,mse_2)\n"
   ]
  },
  {
   "cell_type": "code",
   "execution_count": 27,
   "metadata": {},
   "outputs": [
    {
     "data": {
      "text/plain": [
       "array([0.993, 0.987, 0.987, 0.987, 0.987, 0.987, 0.993, 0.987, 0.987,\n",
       "       0.992, 0.992, 0.987, 0.993, 0.987, 0.987, 0.987, 0.987, 0.993,\n",
       "       0.992, 0.987, 0.987, 0.992, 0.987, 0.987, 0.99 , 0.987, 0.99 ,\n",
       "       0.987, 0.993, 0.992, 0.987, 0.987, 0.987, 0.992, 0.987, 0.987,\n",
       "       0.992, 0.987, 0.99 , 0.987, 0.993, 0.992, 0.987, 0.987, 0.987,\n",
       "       0.987, 0.993, 0.987, 0.987, 0.987, 0.987, 0.987, 0.992, 0.987,\n",
       "       0.987, 0.988, 0.987, 0.987, 0.987, 0.993, 0.987, 0.992, 0.993,\n",
       "       0.987, 0.986, 0.987, 0.987, 0.992, 0.987, 0.993, 0.987, 0.987,\n",
       "       0.987, 0.987, 0.987, 0.987, 0.987, 0.987, 0.987, 0.987, 0.987,\n",
       "       0.987, 0.987, 0.987, 0.987])"
      ]
     },
     "execution_count": 27,
     "metadata": {},
     "output_type": "execute_result"
    }
   ],
   "source": [
    "y_predict[:,0]"
   ]
  },
  {
   "cell_type": "code",
   "execution_count": 28,
   "metadata": {},
   "outputs": [
    {
     "data": {
      "text/plain": [
       "array([ 89.6 ,  95.53,  97.73,  99.3 ,  99.96, 100.  , 100.  , 100.  ,\n",
       "       100.  , 100.  , 100.  ])"
      ]
     },
     "execution_count": 28,
     "metadata": {},
     "output_type": "execute_result"
    }
   ],
   "source": [
    "np.cumsum(np.round(pca.explained_variance_ratio_, decimals=4)*100)"
   ]
  },
  {
   "cell_type": "code",
   "execution_count": null,
   "metadata": {},
   "outputs": [],
   "source": []
  }
 ],
 "metadata": {
  "kernelspec": {
   "display_name": "Python 3",
   "language": "python",
   "name": "python3"
  },
  "language_info": {
   "codemirror_mode": {
    "name": "ipython",
    "version": 3
   },
   "file_extension": ".py",
   "mimetype": "text/x-python",
   "name": "python",
   "nbconvert_exporter": "python",
   "pygments_lexer": "ipython3",
   "version": "3.6.6"
  }
 },
 "nbformat": 4,
 "nbformat_minor": 2
}
