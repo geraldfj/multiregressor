{
 "cells": [
  {
   "cell_type": "code",
   "execution_count": 1,
   "metadata": {},
   "outputs": [],
   "source": [
    "import pandas as pd\n",
    "import numpy as np\n",
    "from sklearn.preprocessing import MinMaxScaler\n",
    "from sklearn.preprocessing import StandardScaler\n",
    "from sklearn import ensemble\n",
    "from sklearn.utils import shuffle\n",
    "from sklearn.metrics import mean_squared_error\n",
    "from sklearn.metrics import r2_score\n",
    "from sklearn.metrics import accuracy_score\n",
    "from sklearn import metrics\n",
    "from sklearn.model_selection import train_test_split\n",
    "from sklearn.multioutput import MultiOutputRegressor\n",
    "from sklearn.ensemble import RandomForestRegressor\n",
    "from matplotlib import pyplot as plt\n",
    "from sklearn.model_selection import cross_val_score"
   ]
  },
  {
   "cell_type": "code",
   "execution_count": 2,
   "metadata": {},
   "outputs": [],
   "source": [
    "def find_nearest(array,value):\n",
    "    idx = (np.abs(array-value)).argmin()\n",
    "    return array[idx]"
   ]
  },
  {
   "cell_type": "code",
   "execution_count": 3,
   "metadata": {},
   "outputs": [],
   "source": [
    "def refine_data(arr1,arr2,arr3):\n",
    "    refined_data = []\n",
    "    for i in range(arr1.shape[0]):\n",
    "        rt = find_nearest(arr1[i],arr3[i][0])\n",
    "        refined_data.append([rt,arr2[i][arr1[i].tolist().index(rt)]])\n",
    "        \n",
    "    refined_data = np.array(refined_data)\n",
    "    return refined_data"
   ]
  },
  {
   "cell_type": "code",
   "execution_count": 4,
   "metadata": {},
   "outputs": [],
   "source": [
    "def get_metrics(arr1,arr2):\n",
    "    mse = mean_squared_error(arr1,arr2)\n",
    "    r2 = r2_score(arr1,arr2)\n",
    "    return mse,r2"
   ]
  },
  {
   "cell_type": "code",
   "execution_count": 5,
   "metadata": {},
   "outputs": [],
   "source": [
    "d1 = pd.read_csv('X_data_t1',sep = ',')\n",
    "d2 = pd.read_csv('y_data',sep = ',')\n",
    "d3 = pd.concat([d1,d2],axis=1)\n",
    "\n",
    "#data = d3.loc[(d3['maxRT_ab'] < 1e6) & (d3['maxRT_ab'] > 3e4)]\n",
    "#data = d3.loc[(d3['maxRT_ab'] > 3e4)]\n",
    "#data = d3.loc[(d3['maxRT_ab'] < 1e6)]\n",
    "#d3 = shuffle(d3)\n",
    "\n",
    "#X = np.array(d3[['maxRT_t','x_start_t','diff_start','diff_end']])\n",
    "#X = np.array(d3[['maxRT_ab','maxRT_baseline','x_start_ab','x_end_ab']])\n",
    "#X = np.array(d3[['maxRT_t','maxRT_ab','maxRT_baseline','x_start_ab','x_end_ab']])\n",
    "X = np.array(d3[['maxRT_t','maxRT_ab','maxRT_baseline','x_start_t','x_start_ab','diff_start','x_end_t','x_end_ab','diff_end']])\n",
    "\n",
    "y = np.array(d3[['y_right_t','y_right_ab']])\n",
    "\n",
    "\n",
    "time = np.array(pd.read_csv('time',sep = ',',header = None).dropna(axis = 'columns').round(3))\n",
    "abundance = np.array(pd.read_csv('abundance',sep = ',',header = None).dropna(axis = 'columns'))\n",
    "baseline = np.array(pd.read_csv('baseline',sep = ',',header = None).dropna(axis = 'columns'))\n",
    "#time = time[0:420]\n",
    "#abundance = abundance[0:420]\n",
    "#baseline = baseline[0:420]"
   ]
  },
  {
   "cell_type": "code",
   "execution_count": 6,
   "metadata": {},
   "outputs": [
    {
     "data": {
      "text/plain": [
       "(99672936.0, 22512.0, (423, 9))"
      ]
     },
     "execution_count": 6,
     "metadata": {},
     "output_type": "execute_result"
    }
   ],
   "source": [
    "np.amax(d3['maxRT_ab']), np.amin(d3['maxRT_ab']), X.shape"
   ]
  },
  {
   "cell_type": "code",
   "execution_count": 7,
   "metadata": {},
   "outputs": [],
   "source": [
    "X_train,X_test,y_train,y_test = train_test_split(X,y,test_size=0.2,random_state=42)"
   ]
  },
  {
   "cell_type": "code",
   "execution_count": 8,
   "metadata": {},
   "outputs": [],
   "source": [
    "#scaler_train = MinMaxScaler()\n",
    "scaler_train = StandardScaler()\n",
    "scaler_train.fit(X_train)\n",
    "X_train =scaler_train.transform(X_train)\n",
    "\n",
    "#scaler_test = MinMaxScaler()\n",
    "scaler_test = StandardScaler()\n",
    "scaler_test.fit(X_test)\n",
    "X_test = scaler_test.transform(X_test)"
   ]
  },
  {
   "cell_type": "code",
   "execution_count": 9,
   "metadata": {},
   "outputs": [
    {
     "name": "stdout",
     "output_type": "stream",
     "text": [
      "[0.80453945 0.63004094 0.42585301 0.62889953 0.75275755]\n",
      "0.2402010655519894 0.7927142548322196\n",
      "0.017507223529411763 1630966.3274087885\n"
     ]
    }
   ],
   "source": [
    "n_estimators = 1000\n",
    "max_depth = 1000\n",
    "random_state = 1000\n",
    "\n",
    "#mse_t,r2_t = [[]for i in range(len(n_estimators))], [[] for i in range(len(n_estimators))]\n",
    "#mse_ab,r2_ab = [[]for i in range(len(n_estimators))], [[] for i in range(len(n_estimators))]\n",
    "\n",
    "\n",
    "params = {'n_estimators': n_estimators, 'max_depth': max_depth, 'min_samples_split': 20,\n",
    "                 'n_jobs': 2, 'random_state':random_state}\n",
    "        \n",
    "clf = RandomForestRegressor(**params)\n",
    "scores = cross_val_score(clf, X_train, y_train, cv=5)\n",
    "print(scores)\n",
    "clf.fit(X_train,y_train)\n",
    "y_predict = clf.predict(X_test).round(3)\n",
    "        \n",
    "        \n",
    "mse_1,r2_1 = get_metrics(y_test[:,0],y_predict[:,0])\n",
    "mse_2,r2_2 = get_metrics(y_test[:,1],y_predict[:,1])\n",
    "        \n",
    "        \n",
    "print(r2_1,r2_2)\n",
    "print(mse_1,mse_2)\n",
    "\n",
    "        "
   ]
  },
  {
   "cell_type": "code",
   "execution_count": 10,
   "metadata": {
    "scrolled": true
   },
   "outputs": [
    {
     "data": {
      "text/plain": [
       "array([1.717, 1.367, 1.223, 1.36 , 1.757, 1.46 , 1.707, 1.37 , 1.507,\n",
       "       1.713, 1.707, 1.243, 1.69 , 1.44 , 1.66 , 1.703, 1.457, 1.68 ,\n",
       "       1.703, 1.503, 1.447, 1.723, 1.3  , 1.557, 1.5  , 1.443, 1.7  ,\n",
       "       1.663, 1.72 , 1.707, 1.697, 1.38 , 1.737, 1.703, 1.437, 1.293,\n",
       "       1.703, 1.557, 1.737, 1.397, 1.7  , 1.7  , 1.307, 1.45 , 1.507,\n",
       "       1.64 , 1.477, 1.383, 1.64 , 1.577, 1.677, 1.553, 1.7  , 1.503,\n",
       "       1.737, 1.61 , 1.7  , 1.433, 1.713, 1.703, 1.753, 1.717, 1.7  ,\n",
       "       1.747, 1.397, 1.657, 1.5  , 1.703, 1.307, 1.7  , 1.45 , 1.4  ,\n",
       "       1.473, 1.273, 1.44 , 1.513, 1.697, 1.69 , 1.72 , 1.53 , 1.72 ,\n",
       "       1.707, 1.323, 1.587, 1.41 ])"
      ]
     },
     "execution_count": 10,
     "metadata": {},
     "output_type": "execute_result"
    }
   ],
   "source": [
    "y_test[:,0]"
   ]
  },
  {
   "cell_type": "code",
   "execution_count": 11,
   "metadata": {},
   "outputs": [
    {
     "data": {
      "text/plain": [
       "array([1.706, 1.499, 1.491, 1.556, 1.502, 1.545, 1.702, 1.503, 1.618,\n",
       "       1.625, 1.7  , 1.609, 1.639, 1.454, 1.605, 1.556, 1.504, 1.657,\n",
       "       1.699, 1.516, 1.51 , 1.665, 1.556, 1.505, 1.54 , 1.539, 1.559,\n",
       "       1.592, 1.703, 1.703, 1.525, 1.533, 1.633, 1.7  , 1.501, 1.496,\n",
       "       1.695, 1.578, 1.541, 1.499, 1.705, 1.689, 1.538, 1.523, 1.488,\n",
       "       1.492, 1.637, 1.503, 1.609, 1.536, 1.623, 1.531, 1.669, 1.514,\n",
       "       1.493, 1.543, 1.534, 1.556, 1.639, 1.698, 1.556, 1.612, 1.705,\n",
       "       1.549, 1.534, 1.612, 1.597, 1.683, 1.494, 1.694, 1.529, 1.6  ,\n",
       "       1.577, 1.6  , 1.505, 1.51 , 1.543, 1.548, 1.556, 1.556, 1.494,\n",
       "       1.533, 1.615, 1.498, 1.491])"
      ]
     },
     "execution_count": 11,
     "metadata": {},
     "output_type": "execute_result"
    }
   ],
   "source": [
    "y_predict[:,0]"
   ]
  },
  {
   "cell_type": "code",
   "execution_count": 12,
   "metadata": {},
   "outputs": [
    {
     "name": "stdout",
     "output_type": "stream",
     "text": [
      "[ -563624.72802712  -311455.61769407 -2265695.16701772 -2612900.0101347\n",
      " -1495903.31423237]\n",
      "-0.506646536020174 -0.9378385684682478\n",
      "0.034716023529411756 15247307.28862982\n"
     ]
    }
   ],
   "source": [
    "from sklearn.decomposition.pca import PCA\n",
    "from sklearn.preprocessing import scale\n",
    "pca = PCA()\n",
    "X_reduced = pca.fit_transform(X_train)\n",
    "scores = cross_val_score(clf, X_reduced, y_train, cv=5, scoring = 'neg_mean_squared_error')\n",
    "print(scores)\n",
    "clf.fit(X_reduced,y_train)\n",
    "y_predict = clf.predict(X_test).round(3)\n",
    "        \n",
    "        \n",
    "mse_1,r2_1 = get_metrics(y_test[:,0],y_predict[:,0])\n",
    "mse_2,r2_2 = get_metrics(y_test[:,1],y_predict[:,1])\n",
    "        \n",
    "        \n",
    "print(r2_1,r2_2)\n",
    "print(mse_1,mse_2)"
   ]
  },
  {
   "cell_type": "code",
   "execution_count": 13,
   "metadata": {},
   "outputs": [
    {
     "data": {
      "text/plain": [
       "array([1.54 , 1.649, 1.645, 1.65 , 1.659, 1.649, 1.534, 1.647, 1.647,\n",
       "       1.629, 1.557, 1.646, 1.531, 1.668, 1.645, 1.645, 1.648, 1.532,\n",
       "       1.554, 1.649, 1.648, 1.596, 1.649, 1.65 , 1.659, 1.65 , 1.653,\n",
       "       1.65 , 1.533, 1.546, 1.648, 1.645, 1.646, 1.559, 1.653, 1.65 ,\n",
       "       1.547, 1.647, 1.643, 1.648, 1.544, 1.554, 1.65 , 1.658, 1.649,\n",
       "       1.648, 1.552, 1.66 , 1.648, 1.647, 1.65 , 1.649, 1.578, 1.646,\n",
       "       1.649, 1.61 , 1.648, 1.668, 1.644, 1.544, 1.649, 1.619, 1.54 ,\n",
       "       1.648, 1.701, 1.648, 1.649, 1.545, 1.645, 1.532, 1.649, 1.659,\n",
       "       1.65 , 1.649, 1.647, 1.648, 1.649, 1.647, 1.649, 1.65 , 1.65 ,\n",
       "       1.649, 1.643, 1.649, 1.658])"
      ]
     },
     "execution_count": 13,
     "metadata": {},
     "output_type": "execute_result"
    }
   ],
   "source": [
    "y_predict[:,0]"
   ]
  },
  {
   "cell_type": "code",
   "execution_count": 14,
   "metadata": {},
   "outputs": [
    {
     "data": {
      "text/plain": [
       "array([1.717, 1.367, 1.223, 1.36 , 1.757, 1.46 , 1.707, 1.37 , 1.507,\n",
       "       1.713, 1.707, 1.243, 1.69 , 1.44 , 1.66 , 1.703, 1.457, 1.68 ,\n",
       "       1.703, 1.503, 1.447, 1.723, 1.3  , 1.557, 1.5  , 1.443, 1.7  ,\n",
       "       1.663, 1.72 , 1.707, 1.697, 1.38 , 1.737, 1.703, 1.437, 1.293,\n",
       "       1.703, 1.557, 1.737, 1.397, 1.7  , 1.7  , 1.307, 1.45 , 1.507,\n",
       "       1.64 , 1.477, 1.383, 1.64 , 1.577, 1.677, 1.553, 1.7  , 1.503,\n",
       "       1.737, 1.61 , 1.7  , 1.433, 1.713, 1.703, 1.753, 1.717, 1.7  ,\n",
       "       1.747, 1.397, 1.657, 1.5  , 1.703, 1.307, 1.7  , 1.45 , 1.4  ,\n",
       "       1.473, 1.273, 1.44 , 1.513, 1.697, 1.69 , 1.72 , 1.53 , 1.72 ,\n",
       "       1.707, 1.323, 1.587, 1.41 ])"
      ]
     },
     "execution_count": 14,
     "metadata": {},
     "output_type": "execute_result"
    }
   ],
   "source": [
    "y_test[:,0]"
   ]
  },
  {
   "cell_type": "code",
   "execution_count": 15,
   "metadata": {},
   "outputs": [
    {
     "data": {
      "text/plain": [
       "array([ 73.62,  88.95,  94.53,  98.66,  99.8 ,  99.99, 100.  , 100.  ,\n",
       "       100.  ])"
      ]
     },
     "execution_count": 15,
     "metadata": {},
     "output_type": "execute_result"
    }
   ],
   "source": [
    "np.cumsum(np.round(pca.explained_variance_ratio_, decimals=4)*100)"
   ]
  },
  {
   "cell_type": "code",
   "execution_count": null,
   "metadata": {},
   "outputs": [],
   "source": []
  }
 ],
 "metadata": {
  "kernelspec": {
   "display_name": "Python 3",
   "language": "python",
   "name": "python3"
  },
  "language_info": {
   "codemirror_mode": {
    "name": "ipython",
    "version": 3
   },
   "file_extension": ".py",
   "mimetype": "text/x-python",
   "name": "python",
   "nbconvert_exporter": "python",
   "pygments_lexer": "ipython3",
   "version": "3.6.6"
  }
 },
 "nbformat": 4,
 "nbformat_minor": 2
}
